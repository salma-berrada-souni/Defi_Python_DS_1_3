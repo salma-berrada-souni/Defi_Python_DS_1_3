{
 "cells": [
  {
   "cell_type": "markdown",
   "metadata": {
    "colab_type": "text",
    "id": "view-in-github"
   },
   "source": [
    "<a href=\"https://colab.research.google.com/github/Pierre-Loic/ADL_module_Python_datascience/blob/master/Defi_1_3.ipynb\" target=\"_parent\"><img src=\"https://colab.research.google.com/assets/colab-badge.svg\" alt=\"Open In Colab\"/></a>"
   ]
  },
  {
   "cell_type": "markdown",
   "metadata": {
    "colab_type": "text",
    "id": "k7X8nbMu8m_I"
   },
   "source": [
    "# Défi des parties 1 à 3"
   ]
  },
  {
   "cell_type": "markdown",
   "metadata": {
    "colab_type": "text",
    "id": "9IOe4z968m_L"
   },
   "source": [
    "Le but de l'exercice est de collecter deux sources de données et de les rassembler en une seule. Il n'y a pas besoin de librairies externes pour résoudre cet exercice."
   ]
  },
  {
   "cell_type": "markdown",
   "metadata": {
    "colab_type": "text",
    "id": "LRPxNS8K8m_M"
   },
   "source": [
    "1 - Collecte de la donnée\n",
    "- Récupérer les données du fichier JSON \"data.json\" dans une structure de données Python (list, dict,...)\n",
    "- Récupérer les données du fichier CSV \"data.csv\" dans une structure de données Python (list, dict,...)\n",
    "- Concaténer les deux structures de données"
   ]
  },
  {
   "cell_type": "code",
   "execution_count": 2,
   "metadata": {
    "colab": {},
    "colab_type": "code",
    "id": "c6JmHxez8m_O",
    "scrolled": true
   },
   "outputs": [
    {
     "name": "stdout",
     "output_type": "stream",
     "text": [
      "[{'date': '10/02/20', 'depenses': '120'}, {'date': '20/03/20', 'depenses': '150'}, {'date': '15/04/20', 'depenses': '50'}, {'date': '19/04/20', 'depenses': '210'}, {'date': '17/05/20', 'depenses': '167'}, {'date': '10/02/20', 'depenses': 120}, {'date': '20/03/20', 'depenses': 150}, {'date': '15/04/20', 'depenses': 50}, {'date': '19/04/20', 'depenses': 210}, {'date': '17/05/20', 'depenses': 167}]\n"
     ]
    }
   ],
   "source": [
    "import json\n",
    "import csv\n",
    "with open(\"data.json\",\"r\") as file:\n",
    "    data=json.load(file)\n",
    "\n",
    "dict={}\n",
    "list1=[]\n",
    "with open(\"data.csv\") as csvfile:\n",
    "    reader=csv.DictReader(csvfile)\n",
    "    for rows in reader:\n",
    "        list1.append(rows)\n",
    "\n",
    "list2=[]\n",
    "for i in range(len(data[\"date\"])):\n",
    "    temp_dict={\"date\" : data[\"date\"][f\"{i}\"],\"depenses\":data[\"depenses\"][f\"{i}\"]}\n",
    "    list2.append(temp_dict)\n",
    "\n",
    "list_final=list1+list2\n",
    "print(list_final)"
   ]
  },
  {
   "cell_type": "markdown",
   "metadata": {
    "colab_type": "text",
    "id": "LJilwaPc8m_b"
   },
   "source": [
    "2 - Stockage des résultats\n",
    "- Créer un fichier JSON avec l'ensemble des données\n",
    "- Créer un fichier CSV avec l'ensemble des données"
   ]
  },
  {
   "cell_type": "code",
   "execution_count": 12,
   "metadata": {
    "colab": {},
    "colab_type": "code",
    "id": "U74wxwUe8m_d"
   },
   "outputs": [],
   "source": [
    "data_json=json.dumps(list_final)\n",
    "with open(\"data_json.json\", \"w\") as file:\n",
    "    json.dump(data_json, file)\n",
    "    \n",
    "with open('data_csv.csv','w',newline='') as csvfile:\n",
    "    fieldnames=['date','depenses']\n",
    "    writer=csv.DictWriter(csvfile, fieldnames=fieldnames)\n",
    "    writer.writeheader()\n",
    "    for  i in range(len(list_final)):\n",
    "        writer.writerow(list_final[i])"
   ]
  },
  {
   "cell_type": "markdown",
   "metadata": {
    "colab_type": "text",
    "id": "TDgF0lNx8m_i"
   },
   "source": [
    "3 - Présentation des résultats\n",
    "- Créer un compte Github (si vous ne l'avez pas déjà fait)  ->  [lien vers Github](https://github.com/)\n",
    "- Créer un repository pour les notebooks des exercices de ce module\n",
    "- Créer une version web de votre notebook (statique ou interactive)"
   ]
  },
  {
   "cell_type": "code",
   "execution_count": null,
   "metadata": {
    "colab": {},
    "colab_type": "code",
    "id": "B70JqqrN8m_l"
   },
   "outputs": [],
   "source": []
  }
 ],
 "metadata": {
  "colab": {
   "include_colab_link": true,
   "name": "Defi_1-3.ipynb",
   "provenance": []
  },
  "kernelspec": {
   "display_name": "Python 3",
   "language": "python",
   "name": "python3"
  },
  "language_info": {
   "codemirror_mode": {
    "name": "ipython",
    "version": 3
   },
   "file_extension": ".py",
   "mimetype": "text/x-python",
   "name": "python",
   "nbconvert_exporter": "python",
   "pygments_lexer": "ipython3",
   "version": "3.8.5"
  }
 },
 "nbformat": 4,
 "nbformat_minor": 1
}
